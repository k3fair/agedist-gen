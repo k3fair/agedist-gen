{
 "cells": [
  {
   "cell_type": "markdown",
   "id": "723212b3",
   "metadata": {},
   "source": [
    "# Classifer\n",
    "\n",
    "This notebook takes UN population division data on country-level age distributions and classifies these distributions based on whether the fraction of the population within an age group decreases monotonically with age."
   ]
  },
  {
   "cell_type": "markdown",
   "id": "80c28ca8",
   "metadata": {},
   "source": [
    "## Import packages"
   ]
  },
  {
   "cell_type": "code",
   "execution_count": 14,
   "id": "ec0854ff",
   "metadata": {},
   "outputs": [],
   "source": [
    "#Load in required libraries\n",
    "import pandas as pd\n",
    "import numpy as np\n",
    "import os\n",
    "import matplotlib.pyplot as plt"
   ]
  },
  {
   "cell_type": "markdown",
   "id": "5e768187",
   "metadata": {},
   "source": [
    "## Read in necessary data"
   ]
  },
  {
   "cell_type": "code",
   "execution_count": 15,
   "id": "e7343340",
   "metadata": {},
   "outputs": [],
   "source": [
    "# Set working directory\n",
    "home =  os.getcwd()[:-4]\n",
    "\n",
    "# Read in age distribution data\n",
    "df = pd.read_excel(f'{home}data/required/WPP2019_POP_F15_1_ANNUAL_POPULATION_BY_AGE_BOTH_SEXES.xlsx', sheet_name = 'ESTIMATES', header=16)\n",
    "df = df.drop(df[df.Type==\"Label/Separator\"].index) # Drop all rows that are blank section separators\n",
    "df = df.infer_objects() # Correct dtypes for age columns\n",
    "df = df.round() # Round all population counts to nearest integer"
   ]
  },
  {
   "cell_type": "markdown",
   "id": "f47461f3",
   "metadata": {},
   "source": [
    "## Check whether distributions are monotonic decreasing"
   ]
  },
  {
   "cell_type": "code",
   "execution_count": 16,
   "id": "add6b445",
   "metadata": {},
   "outputs": [
    {
     "name": "stderr",
     "output_type": "stream",
     "text": [
      "/Users/kfair/opt/anaconda3/lib/python3.9/site-packages/pandas/core/base.py:1077: FutureWarning: In a future version, the Index constructor will not infer numeric dtypes when passed object-dtype sequences (matching Series behavior)\n",
      "  return Index(self).is_monotonic_decreasing\n"
     ]
    }
   ],
   "source": [
    "mono_check=np.zeros(df.shape[0])\n",
    "\n",
    "for i in range(df.shape[0]):\n",
    "    mono_check[i] = df.iloc[i, -21::].is_monotonic_decreasing #Check which of the age distributions are monotoic decreasing with age\n",
    "\n",
    "df[\"monocheck\"] = mono_check\n",
    "\n",
    "# Save 2 sets of age distributions, monotonic decreasing (md) and other\n",
    "df.loc[df.monocheck==1].to_csv(f'{home}data/required/agedists_md.csv') \n",
    "df.loc[df.monocheck==0].to_csv(f'{home}data/required/agedists_other.csv') "
   ]
  },
  {
   "cell_type": "markdown",
   "id": "9f76ade1",
   "metadata": {},
   "source": [
    "## Focus on a specific year "
   ]
  },
  {
   "cell_type": "code",
   "execution_count": 17,
   "id": "452b475a",
   "metadata": {},
   "outputs": [],
   "source": [
    "# Select a year to focus on\n",
    "select_year = 2019\n",
    "\n",
    "# Subset to get only country-level distributions for selected year\n",
    "df_countries = df.loc[df.Type==\"Country/Area\"] \n",
    "df_countries_year = df_countries.loc[df_countries[\"Reference date (as of 1 July)\"]==select_year]\n",
    "df_countries_year_other=df_countries_year.loc[df_countries_year.monocheck==0]\n",
    "df_countries_year_md=df_countries_year.loc[df_countries_year.monocheck==1]\n",
    "\n",
    "# Save 2 sets of age distributions for the selected year, monotonic decreasing (md) and other (i.e. not monotic decreasing)\n",
    "df_countries_year_md.to_csv(f'{home}data/required/agedists_countries{select_year}_md.csv') \n",
    "df_countries_year_other.to_csv(f'{home}data/required/agedists_countries{select_year}_other.csv') "
   ]
  },
  {
   "cell_type": "code",
   "execution_count": null,
   "id": "a7db698b",
   "metadata": {},
   "outputs": [],
   "source": []
  }
 ],
 "metadata": {
  "kernelspec": {
   "display_name": "Python 3 (ipykernel)",
   "language": "python",
   "name": "python3"
  },
  "language_info": {
   "codemirror_mode": {
    "name": "ipython",
    "version": 3
   },
   "file_extension": ".py",
   "mimetype": "text/x-python",
   "name": "python",
   "nbconvert_exporter": "python",
   "pygments_lexer": "ipython3",
   "version": "3.9.12"
  }
 },
 "nbformat": 4,
 "nbformat_minor": 5
}
